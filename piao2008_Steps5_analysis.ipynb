{
 "cells": [
  {
   "cell_type": "markdown",
   "metadata": {},
   "source": [
    "# Recreating Analysis of Piao Nature 2008"
   ]
  },
  {
   "cell_type": "markdown",
   "metadata": {},
   "source": [
    "## Step 5: get tmp-co2 correlations and trends in ccgcrv outputs"
   ]
  },
  {
   "cell_type": "code",
   "execution_count": null,
   "metadata": {},
   "outputs": [],
   "source": [
    "import pandas as pd\n",
    "from piao2008_get_ccgcrv import get_ccgcrv\n",
    "from piao2008_get_tmp_mean import get_tmp_mean\n",
    "from matplotlib import pyplot as plt\n",
    "import numpy as np"
   ]
  },
  {
   "cell_type": "code",
   "execution_count": null,
   "metadata": {},
   "outputs": [],
   "source": [
    "# Prepare variables\n",
    "co2_file = '../data/piao_2008/piao_co2_fm.csv'\n",
    "stations_file = '../data/piao_2008/piao_stations.csv'\n",
    "stations = pd.read_csv(stations_file)\n",
    "calc_tmps = False"
   ]
  },
  {
   "cell_type": "code",
   "execution_count": null,
   "metadata": {},
   "outputs": [],
   "source": [
    "# Get ccgcrv output\n",
    "ccg_output, ccgmeans = get_ccgcrv(co2_file=co2_file, stations_file=stations_file, start_col='start_total', end_col='end_total')"
   ]
  },
  {
   "cell_type": "code",
   "execution_count": null,
   "metadata": {},
   "outputs": [],
   "source": [
    "def get_station_tmp_mean(station):\n",
    "    # Get temperature data\n",
    "    S = int(stations.loc[stations['name']==station, 'lat']) - 20\n",
    "    N = np.min([int(stations.loc[stations['name']==station, 'lat']) + 20, 90])\n",
    "    tmp_mean = get_tmp_mean(tmp_file='/Users/moyanofe/BigData/GeoSpatial/Climate/CRU-TS_4.05_1901-2020/cru_ts4.05.1901.2020.tmp.dat.nc',\n",
    "        limS=S,\n",
    "        limN=N)\n",
    "    file_out = 'tmp_yearly_means_' + station + '.csv'\n",
    "    tmp_mean.to_csv('../data/piao_2008/' + file_out)"
   ]
  },
  {
   "cell_type": "code",
   "execution_count": null,
   "metadata": {},
   "outputs": [],
   "source": [
    "if calc_tmps:\n",
    "    for s in stations['name']:\n",
    "        get_station_tmp_mean(s)"
   ]
  },
  {
   "cell_type": "code",
   "execution_count": null,
   "metadata": {},
   "outputs": [],
   "source": [
    "# Function to make correlation and time series plots\n",
    "\n",
    "def make_plots(station, start_year, end_year, detrend=False, name=\"\", tx=0.5):\n",
    "    # station: station abbreviation as given in file\n",
    "    # start_year: earliest starting year to select either as integer or as column in file with starting years\n",
    "    # end_year: same as start_year but for latest year to select\n",
    "    # name: string to add in file names\n",
    "\n",
    "    from scipy import stats\n",
    "\n",
    "    # Prepare the data and calculate anomalies ----\n",
    "\n",
    "\n",
    "\n",
    "    # Select time period for temperature data\n",
    "    \n",
    "    if isinstance(start_year, int):\n",
    "        year_beg = start_year\n",
    "    else:\n",
    "        year_beg = int(stations.loc[stations['name']==station, start_year])\n",
    "\n",
    "    if isinstance(end_year, int):\n",
    "        year_end = end_year\n",
    "    else:\n",
    "        year_end = int(stations.loc[stations['name']==station, end_year])\n",
    "\n",
    "    # Get the ccg data\n",
    "    ccg_y = ccg_output[station]['yearly']\n",
    "    azc = ccg_y['tcu_doy'].loc[ccg_y['year'].between(year_beg, year_end)]\n",
    "    azc.loc[azc < 150] = azc.loc[azc < 150] + 365\n",
    "    years = ccg_y['year'].loc[ccg_y['year'].between(year_beg, year_end)]\n",
    "\n",
    "    # Get temperature data\n",
    "    tmp_file = 'tmp_yearly_means_' + station + '.csv'\n",
    "    tmp_mean = pd.read_csv('../data/piao_2008/' + tmp_file, index_col='year')\n",
    "    tmp = tmp_mean.loc[years.iloc[0]:years.iloc[len(years)-1],'tmp_SON']\n",
    "\n",
    "    # Calculate anomalies\n",
    "    tmp_ano = tmp - tmp.mean()\n",
    "    azc_ano = azc - azc.mean()\n",
    "\n",
    "    xy = pd.DataFrame({'year': years, 'tmp_ano': tmp_ano.to_numpy(), 'azc_ano': azc_ano.to_numpy()})\n",
    "\n",
    "    # Calculate regression and plot ----\n",
    "    if detrend:\n",
    "        lm = stats.linregress(xy['year'], xy['tmp_ano'])\n",
    "        pred = lm.intercept + lm.slope * xy['year']\n",
    "        xy.loc[:,'tmp_ano'] = xy['tmp_ano'] - pred\n",
    "\n",
    "        lm = stats.linregress(xy['year'], xy['azc_ano'])\n",
    "        pred = lm.intercept + lm.slope * xy['year']\n",
    "        xy.loc[:,'azc_ano'] = xy['azc_ano'] - pred\n",
    "\n",
    "    # Use scipy to get stats            \n",
    "    # t, p = stats.kendalltau(x_in, y_in)[0] # used for ordinal data\n",
    "    reg = stats.linregress(xy['tmp_ano'], xy['azc_ano'])\n",
    "    r_val = \"r = {:.3f}\".format(reg.rvalue)\n",
    "    p_val = \"p = {:.3f}\".format(reg.pvalue)\n",
    "    azc_pred = reg.intercept + reg.slope * xy['tmp_ano']\n",
    "    # r = np.sqrt(model.score(x, y))\n",
    "\n",
    "    # Plot the correlation\n",
    "    # xy = xy.sort_values(by='tmp_ano')\n",
    "    plt.rcParams['figure.figsize'] = [5, 5]\n",
    "    plt.plot(xy['tmp_ano'], xy['azc_ano'], 'o', color='grey', alpha=1, label='Temp anomaly vs AZC anomaly'+'\\n'+r_val+'; '+p_val)\n",
    "    plt.plot(xy['tmp_ano'], azc_pred, '--', color='grey')\n",
    "    plt.title(label=station)\n",
    "    plt.legend(loc='upper right')\n",
    "    plt.show()\n",
    "\n",
    "    # Plot the time series\n",
    "    plt.rcParams['figure.figsize'] = [8, 5]\n",
    "    fig,ax=plt.subplots()\n",
    "    ax.plot(years, xy['azc_ano'], '--', color='red', label='AZC anomaly')\n",
    "    ax.set_ylabel(\"Autumn zero crossing anomaly (days)\", color=\"red\")\n",
    "    # ax.set_ylim([-15, 15])\n",
    "    ax2=ax.twinx()\n",
    "    ax2.plot(years, xy['tmp_ano'], '--', color='black', label='Autumn temperature anomaly', linewidth=2)\n",
    "    ax2.set_ylabel(\"Autumn temperature anomaly (ºC)\")\n",
    "    # ax2.set_ylim([-2, 2])\n",
    "    ax2.invert_yaxis()\n",
    "    plt.title(station)\n",
    "    plt.text(tx, 0.95, r_val+'; '+p_val, transform=ax.transAxes)\n",
    "    plt.show()\n",
    "\n",
    "    # Save the plot\n",
    "    fig.savefig('../plots/' + name + '_' + station + '_azc-tmp.jpg',\n",
    "                format='jpeg',\n",
    "                dpi=100,\n",
    "                bbox_inches='tight')   \n",
    "    "
   ]
  },
  {
   "cell_type": "code",
   "execution_count": null,
   "metadata": {},
   "outputs": [],
   "source": [
    "# Get results to reproduce Piao 2008 Figure 1a\n",
    "start_col = 'start_piao2008'\n",
    "end_col = 'end_piao2008'\n",
    "name = \"piao\"\n",
    "for s in stations['name']:\n",
    "    make_piaofig1a(station=s, start_col=start_col, end_col=end_col, name=name)"
   ]
  },
  {
   "cell_type": "markdown",
   "metadata": {},
   "source": [
    "### Testing specific cases"
   ]
  },
  {
   "cell_type": "markdown",
   "metadata": {},
   "source": [
    "**Comparison of Point Barrow data**\n",
    "\n",
    "- Short time series vs long time series\n",
    "- Row anomalies vs detrended anomalies"
   ]
  },
  {
   "cell_type": "code",
   "execution_count": null,
   "metadata": {},
   "outputs": [],
   "source": [
    "# Chose\n",
    "station='BRW'\n",
    "start = 'start_piao2008'\n",
    "end = 'end_piao2008'\n",
    "start = 1970\n",
    "end = 1995\n",
    "# start = 1996\n",
    "# end = 2020\n",
    "start = 1970\n",
    "end = 2020\n",
    "name = ''\n",
    "make_plots(station=station, start_year=start, end_year=end, detrend=False, tx=0.5)\n",
    "make_plots(station=station, start_year=start, end_year=end, detrend=True, tx=0.5)"
   ]
  }
 ],
 "metadata": {
  "interpreter": {
   "hash": "91f1bba8519ed6923ef60977c5cf07f967a73d7b4253536b2b2cbd4772524678"
  },
  "kernelspec": {
   "display_name": "Python 3.9.12 ('recovery')",
   "language": "python",
   "name": "python3"
  },
  "language_info": {
   "codemirror_mode": {
    "name": "ipython",
    "version": 3
   },
   "file_extension": ".py",
   "mimetype": "text/x-python",
   "name": "python",
   "nbconvert_exporter": "python",
   "pygments_lexer": "ipython3",
   "version": "3.9.12"
  },
  "orig_nbformat": 4
 },
 "nbformat": 4,
 "nbformat_minor": 2
}
