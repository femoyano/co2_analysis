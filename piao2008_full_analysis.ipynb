{
 "cells": [
  {
   "cell_type": "markdown",
   "metadata": {},
   "source": [
    "# Recreating Analysis of Piao Nature 2008"
   ]
  },
  {
   "cell_type": "code",
   "execution_count": 85,
   "metadata": {},
   "outputs": [],
   "source": [
    "# Import modules\n",
    "import pandas as pd\n",
    "import numpy as np\n",
    "from copy import deepcopy\n",
    "import datetime\n",
    "from ccgcrv import ccg_dates"
   ]
  },
  {
   "cell_type": "code",
   "execution_count": 86,
   "metadata": {},
   "outputs": [],
   "source": [
    "# Get the datetime and a formated string\n",
    "dt = datetime.datetime.now()\n",
    "dtp = dt.strftime('%y%m%d-%H%M%S')"
   ]
  },
  {
   "cell_type": "markdown",
   "metadata": {},
   "source": [
    "**Options**\n",
    "\n",
    "co2_avg_freq: sets if data at higher freqencies should be averaged (e.g. to daily or monthly) before applying ccgcrv. Data at lower frequency is used as is."
   ]
  },
  {
   "cell_type": "code",
   "execution_count": 87,
   "metadata": {},
   "outputs": [],
   "source": [
    "# Options - general\n",
    "name = dtp\n",
    "data_dir = '../data/piao_2008/'\n",
    "\n",
    "# Raw data files\n",
    "\n",
    "# Options for preprocessing\n",
    "do_co2proc = False\n",
    "\n",
    "# Options for ccgcrv\n",
    "co2_avg_freq = 'monthly' # one of: 'raw', 'daily', 'monthly' (Should deprecate. Only makes sense to use monthly)\n",
    "start = 'start_total' # one of: start_total, start_piao2008\n",
    "end = 'end_total'\n",
    "# start = 'start_piao2008' # one of: start_total, start_piao2008\n",
    "# end = 'end_piao2008'\n",
    "\n",
    "# Options for temperature means\n",
    "recalc_tmps = False\n",
    "tmp_per_station = False # Calculate a different mean for each stations (see Piao 2008) or use single mean\n",
    "tmp_latS = 20 # Southern limit for tmp mean\n",
    "tmp_latN = 60 # Northern limit for tmp mean\n",
    "excl_grnlnd = True # exclude Greenland\n",
    "\n",
    "# Options for analysis\n",
    "corr_station='BRW' # station to correlate and plot\n",
    "corr_start = 'start_piao2008' \n",
    "corr_end = 'end_piao2008'\n",
    "# corr_start = 1970\n",
    "# corr_end = 1995\n",
    "# corr_start = 1996\n",
    "# corr_end = 2020\n",
    "corr_start = 1970\n",
    "corr_end = 1980\n",
    "detrend = False # Should time series of temperature, AZC, etc be detrended before correlations\n"
   ]
  },
  {
   "cell_type": "markdown",
   "metadata": {},
   "source": [
    "## Step 1: data retrieval\n",
    "\n",
    "CO2 data from the stations used in Piao (and others) was retrieved from 2 sources: NOAA-ESRL and ICOS. Selection of Piao stations copied to: /Users/moyanofe/Work/Augsburg/Research/CO2/data/piao_2008\n",
    "\n",
    "Data with Piao stations was then merged into files:\n",
    "- piao2008_co2_datalask.csv (has event and monthly data)\n",
    "- piao2008_co2_insitu_daily.csv\n",
    "- piao2008_co2_insitu_hourly.csv\n",
    "- piao2008_co2_insitu_monthly.csv\n",
    "\n",
    "Analyses to carry out:\n",
    "- First analysis: select stations and periods as in Piao 2008\n",
    "- Second analysis: select stations as in Piao 2008 and entire available periods \n",
    "- Third analysis: use stations selected in Forkel 2016 with full time series\n"
   ]
  },
  {
   "cell_type": "markdown",
   "metadata": {},
   "source": [
    "## Step 2: CO2 data preprocessing\n",
    "\n",
    "**Data selection steps:**\n",
    "\n",
    "Piao 2008 say they used flask data, but at least for Pt Barrow they used in-situ.  \n",
    "There is no information about the frequency (daily vs monthly).\n",
    "\n",
    "Approach 1:\n",
    "\n",
    "- Use in-situ monthly where available (this is what Piao did for Pt Barrow)\n",
    "- Average other data to daily and then to monthly values "
   ]
  },
  {
   "cell_type": "code",
   "execution_count": 88,
   "metadata": {},
   "outputs": [],
   "source": [
    "if do_co2proc:\n",
    "    \n",
    "        # Read on the co2 data\n",
    "        co2_fm = pd.read_csv(data_dir + 'piao2008_co2_flask_monthly.csv')\n",
    "        co2_fe = pd.read_csv(data_dir + 'piao2008_co2_flask_event.csv')\n",
    "        co2_im = pd.read_csv(data_dir + 'piao2008_co2_insitu_monthly.csv')\n",
    "\n",
    "        # Assign missing values (usually marked with -9999 or similar)\n",
    "        co2_fm.loc[co2_fm['co2'] < 0, 'co2'] = np.nan\n",
    "        co2_fe.loc[co2_fe['co2'] < 0, 'co2'] = np.nan\n",
    "        co2_im.loc[co2_im['co2'] < 0, 'co2'] = np.nan\n",
    "\n",
    "        # One station has two names: SSL and SCH. Set all to SSL (newer name)\n",
    "        co2_fm.loc[co2_fm['station'] == 'SCH', 'station'] = 'SSL'\n",
    "        co2_fe.loc[co2_fe['station'] == 'SCH', 'station'] = 'SSL'\n",
    "        co2_im.loc[co2_im['station'] == 'SCH', 'station'] = 'SSL'\n",
    "\n",
    "        # Drop unused columns\n",
    "        co2_fm.drop('stdev', inplace=True, axis=1)\n",
    "        co2_fe.drop('stdev', inplace=True, axis=1)\n",
    "\n",
    "        # Get daily averages from event data and remove the averaged hour column\n",
    "        co2_fe2d = co2_fe.groupby(['station','year','month','day'], as_index=False).mean()\n",
    "        co2_fe2d.drop(['hour'], axis=1, inplace=True)\n",
    "\n",
    "        # Get monthly averages from daily means and remove unnecessary columns\n",
    "        co2_fe2m = co2_fe2d.groupby(['station','year','month'], as_index=False).mean()\n",
    "        co2_fe2m.drop(['day'], axis=1, inplace=True)\n",
    "\n",
    "\n",
    "        # Merge the different sources and select prefered source ----\n",
    "\n",
    "        # Merge keeping all values\n",
    "        co2_m1 = co2_fm.merge(co2_fe2m, on=['station', 'year', 'month'], how='outer', sort=True, suffixes=['_fm', '_fe2m'])\n",
    "        co2_m2 = co2_m1.merge(co2_im, on=['station', 'year', 'month'], how='outer', sort=True)\n",
    "        co2_m2.drop('freq', inplace=True, axis=1)\n",
    "\n",
    "        # Choose insitu as default. If insitu is missing, replace with flask monthly. If values still misssing, replace with event to monthly\n",
    "        co2_m2.rename(columns={'co2': 'co2_im'}, inplace=True)\n",
    "        co2_m2['co2']=co2_m2['co2_im']\n",
    "\n",
    "        is_na = co2_m2['co2'].isna()\n",
    "        co2_m2.loc[is_na, 'co2'] = co2_m2['co2_fm'].loc[is_na]\n",
    "\n",
    "        is_na = co2_m2['co2'].isna()\n",
    "        co2_m2.loc[is_na, 'co2'] = co2_m2['co2_fe2m'].loc[is_na]\n",
    "\n",
    "        co2_m2.dropna(axis=0, subset='co2', inplace=True)\n",
    "        co2_m2.reset_index(inplace=True)\n",
    "\n",
    "        # Calculate the decimal year\n",
    "        co2_m2['dec_year'] = co2_m2.apply(lambda row: ccg_dates.decimalDate(int(row['year']),\n",
    "                int(row['month']), 15), axis=1)\n",
    "\n",
    "\n",
    "        # Select stations for analysis -----\n",
    "        # Information about each station is in the file data/co2_station_summary.csv\n",
    "\n",
    "        # Read in co2 data and station data summary and select stations used in Piao 2008. Save to file.\n",
    "        file_stations='../data/co2_station_summary.csv'\n",
    "        file_co2_piao = data_dir + 'piao_co2_proc.csv'\n",
    "        file_stations_piao = data_dir + 'piao_stations.csv'\n",
    "\n",
    "        # Read in station summary\n",
    "        stations = pd.read_csv(file_stations)\n",
    "        # Select stations used by piao2008\n",
    "        piao_stations = stations.loc[stations['piao_2008']==True,:]\n",
    "        # Select data for the selected stations\n",
    "        is_sel = co2_m2['station'].isin(piao_stations['name'])\n",
    "        piao_co2 = co2_m2.loc[is_sel, :] # at the moment they are all piao stations\n",
    "\n",
    "        piao_stations.to_csv(file_stations_piao)\n",
    "        piao_co2.to_csv(file_co2_piao)"
   ]
  },
  {
   "cell_type": "code",
   "execution_count": 89,
   "metadata": {},
   "outputs": [],
   "source": [
    "# # testing code\n",
    "# co2_test = co2_im\n",
    "# co2_test['dec_year'] = co2_test.apply(lambda row: ccg_dates.decimalDate(int(row['year']),\n",
    "#                 int(row['month']), 15), axis=1)\n",
    "# file_co2_piao = data_dir + 'piao_co2_proc.csv'\n",
    "# co2_test.to_csv(file_co2_piao)"
   ]
  },
  {
   "cell_type": "markdown",
   "metadata": {},
   "source": [
    "## Step 3: Analyze time series of all stations\n",
    "\n",
    "Substeps\n",
    "\n",
    "- Create a function that takes a stations co2 time series and outputs the data (actually, just use the function I already have.)\n",
    "\n",
    "- Call the above function and save results in a dictionary, with keys being station names\n"
   ]
  },
  {
   "cell_type": "code",
   "execution_count": 90,
   "metadata": {},
   "outputs": [],
   "source": [
    "from get_ccgcrv import ccgcrv_fit_mult\n",
    "\n",
    "# Set pars for ccg fit\n",
    "# Default parameter values as used in the ccgcrv code.\n",
    "ccg_pars_def = {\n",
    "    'shortterm': 80,\n",
    "    'longterm': 667,\n",
    "    'sampleinterval': 0,\n",
    "    'numpolyterms': 3,\n",
    "    'numharmonics': 4,\n",
    "    'timezero': -1,\n",
    "    'gap': 0,\n",
    "    'use_gain_factor': False,\n",
    "    'debug': False\n",
    "}\n",
    "# Set sampleinterval to 1\n",
    "ccg_pars1 = deepcopy(ccg_pars_def)\n",
    "ccg_pars1['sampleinterval'] = 1\n",
    "ccg_pars1['shortterm'] = 80\n",
    "ccg_pars1['longterm'] = 667\n",
    "\n",
    "# Get ccgcrv output\n",
    "ccg_output, ccgmeans = ccgcrv_fit_mult(co2_file=file_co2_piao, stations_file=file_stations_piao, ccg_pars=ccg_pars1, start_col=start, end_col=end)"
   ]
  },
  {
   "cell_type": "markdown",
   "metadata": {},
   "source": [
    "## Step 4: temperature averages for the northern latitudes\n",
    "\n",
    "- Read in temperature data. File: /Users/moyanofe/BigData/GeoSpatial/Climate/CRU-TS_4.05_1901-2020/cru_ts4.05.1901.2020.tmn.dat.nc\n",
    "- Calculate averages for:\n",
    "    - +/- 20º around each station and for a given lat lot limites\n",
    "    - yearly and seasonally\n",
    "\n",
    "Note: check for useful code in trend calculations scripts"
   ]
  },
  {
   "cell_type": "code",
   "execution_count": 91,
   "metadata": {},
   "outputs": [],
   "source": [
    "\n",
    "# Prepare variables\n",
    "stations = pd.read_csv(file_stations_piao)\n",
    "common_tmp_file = data_dir + '' + 'tmp_yearly_means_' + str(tmp_latS) + str(tmp_latN) + '.csv'\n",
    "\n",
    "if recalc_tmps:\n",
    "\n",
    "    from piao2008_get_tmp_mean import get_tmp_mean\n",
    "    tmp_file='/Users/moyanofe/BigData/GeoSpatial/Climate/CRU-TS_4.05_1901-2020/cru_ts4.05.1901.2020.tmp.dat.nc'\n",
    "\n",
    "    if tmp_per_station:\n",
    "\n",
    "        # Calculate mean temperature around each station\n",
    "        def get_station_tmp_mean(station):\n",
    "            # Get temperature data\n",
    "            S = int(stations.loc[stations['name']==station, 'lat']) - 20\n",
    "            N = np.min([int(stations.loc[stations['name']==station, 'lat']) + 20, 90])\n",
    "            tmp_mean = get_tmp_mean(tmp_file=tmp_file,\n",
    "                limS=S,\n",
    "                limN=N,\n",
    "                excl_grnlnd = excl_grnlnd)\n",
    "            file_out = 'tmp_yearly_means_' + station + '.csv'\n",
    "            tmp_mean.to_csv(data_dir + '' + file_out)\n",
    "\n",
    "        for s in stations['name']:\n",
    "            get_station_tmp_mean(s)\n",
    "\n",
    "    else:\n",
    "        \n",
    "        # Calculate a common mean temperature\n",
    "        tmp_mean = get_tmp_mean(tmp_file=tmp_file,\n",
    "            limS=tmp_latS,\n",
    "            limN=tmp_latN,\n",
    "            excl_grnlnd = excl_grnlnd)\n",
    "        tmp_mean.to_csv(common_tmp_file)"
   ]
  },
  {
   "cell_type": "markdown",
   "metadata": {},
   "source": [
    "## Step 5: get tmp-co2 correlations and trends in ccgcrv outputs"
   ]
  },
  {
   "cell_type": "code",
   "execution_count": 92,
   "metadata": {},
   "outputs": [],
   "source": [
    "from piao2008_make_plots import make_plots"
   ]
  },
  {
   "cell_type": "markdown",
   "metadata": {},
   "source": [
    "### Testing specific cases"
   ]
  },
  {
   "cell_type": "markdown",
   "metadata": {},
   "source": [
    "**Comparison of Point Barrow data**\n",
    "\n",
    "- Short time series vs long time series\n",
    "- Row anomalies vs detrended anomalies"
   ]
  },
  {
   "cell_type": "code",
   "execution_count": 93,
   "metadata": {},
   "outputs": [
    {
     "data": {
      "image/png": "[encoded data removed]",
      "text/plain": [
       "<Figure size 360x360 with 1 Axes>"
      ]
     },
     "metadata": {
      "needs_background": "light"
     },
     "output_type": "display_data"
    },
    {
     "data": {
      "image/png": "[encoded data removed]",
      "text/plain": [
       "<Figure size 576x360 with 2 Axes>"
      ]
     },
     "metadata": {
      "needs_background": "light"
     },
     "output_type": "display_data"
    }
   ],
   "source": [
    "make_plots(station=corr_station, stations=stations, start_year=corr_start, end_year=corr_end, ccg_output=ccg_output,\n",
    "    tmp_per_station=tmp_per_station, common_tmp_file=common_tmp_file, data_dir=data_dir, detrend=detrend, name=name, tx=0.05)"
   ]
  }
 ],
 "metadata": {
  "interpreter": {
   "hash": "91f1bba8519ed6923ef60977c5cf07f967a73d7b4253536b2b2cbd4772524678"
  },
  "kernelspec": {
   "display_name": "Python 3.9.12 ('recovery')",
   "language": "python",
   "name": "python3"
  },
  "language_info": {
   "codemirror_mode": {
    "name": "ipython",
    "version": 3
   },
   "file_extension": ".py",
   "mimetype": "text/x-python",
   "name": "python",
   "nbconvert_exporter": "python",
   "pygments_lexer": "ipython3",
   "version": "3.9.12"
  },
  "orig_nbformat": 4
 },
 "nbformat": 4,
 "nbformat_minor": 2
}
