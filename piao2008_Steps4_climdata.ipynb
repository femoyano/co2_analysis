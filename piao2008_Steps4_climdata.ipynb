{
 "cells": [
  {
   "cell_type": "markdown",
   "metadata": {},
   "source": [
    "## Recreating Analysis of Piao Nature 2008"
   ]
  },
  {
   "cell_type": "markdown",
   "metadata": {},
   "source": [
    "### Step 4: temperature averages for the northern latitudes\n",
    "\n",
    "- Read in temperature data. File: /Users/moyanofe/BigData/GeoSpatial/Climate/CRU-TS_4.05_1901-2020/cru_ts4.05.1901.2020.tmn.dat.nc\n",
    "- Calculate averages for:\n",
    "    - above 30ºN and above 50ºN\n",
    "    - yearly and seasonally\n",
    "\n",
    "Note: check for useful code in trend calculations scripts"
   ]
  },
  {
   "cell_type": "code",
   "execution_count": 1,
   "metadata": {},
   "outputs": [],
   "source": [
    "import numpy as np\n",
    "import pandas as pd\n",
    "import xarray as xr"
   ]
  },
  {
   "cell_type": "code",
   "execution_count": 2,
   "metadata": {},
   "outputs": [],
   "source": [
    "# File with global land surface temperature data\n",
    "file = '/Users/moyanofe/BigData/GeoSpatial/Climate/CRU-TS_4.05_1901-2020/cru_ts4.05.1901.2020.tmp.dat.nc'\n",
    "\n",
    "# Latitude limites for calculating temperature averages\n",
    "limS = 30\n",
    "limN = 80"
   ]
  },
  {
   "cell_type": "code",
   "execution_count": 3,
   "metadata": {},
   "outputs": [],
   "source": [
    "# Load the data\n",
    "ds_t = xr.open_dataset(file)\n",
    "da_t = ds_t['tmp']\n",
    "da_tr = da_t.sel(lat=slice(limS,limN)) # Get values only for the region of interest"
   ]
  },
  {
   "cell_type": "code",
   "execution_count": 4,
   "metadata": {},
   "outputs": [],
   "source": [
    "# Get yearly averages for the region\n",
    "# See https://docs.xarray.dev/en/stable/examples/area_weighted_temperature.html\n",
    "\n",
    "# First average in time\n",
    "da_try = da_tr.groupby('time.year').mean() # try = temperature, region, yearly\n",
    "# Then average for the region (weight by gridcell size)\n",
    "weights = np.cos(np.deg2rad(da_try.lat)) # cosine of latitude is a proxy of gridcell size\n",
    "weights.name = \"weights\" # Not sure why this is required \n",
    "da_tryw = da_try.weighted(weights) # Get weighted values\n",
    "da_trym = da_tryw.mean(('lat', 'lon')) # Get the average over lat and lon"
   ]
  },
  {
   "cell_type": "code",
   "execution_count": 8,
   "metadata": {},
   "outputs": [],
   "source": [
    "# Get seasonal averages\n",
    "# See: https://docs.xarray.dev/en/stable/examples/monthly-means.html\n",
    "\n",
    "# To be precise, need to weight by the actual month lengths\n",
    "\n",
    "# First create a year_season coordinate used to group the data\n",
    "year_np = da_tr['time.year'].to_pandas()\n",
    "season_np = da_tr['time.season'].to_pandas()\n",
    "year_season_idx = pd.MultiIndex.from_arrays([year_np, season_np])\n",
    "da_tr.coords['year_season'] = ('time', year_season_idx)\n",
    "\n",
    "# Create a data array with number of days per month\n",
    "month_length = da_tr.time.dt.days_in_month\n",
    "\n",
    "# Calculate the weights for each month by grouping by 'year_season'.\n",
    "weights =  month_length.groupby(\"year_season\") / month_length.groupby(\"year_season\").sum()\n",
    "\n",
    "# Test that the sum of the weights for each season is 1.0. (No output or None is good)\n",
    "np.testing.assert_allclose(weights.groupby(\"year_season\").sum().values, np.ones(480))\n",
    "\n",
    "# Calculate the weighted average for each season and year (i.e. the sum of the weighted values)\n",
    "da_trs = (da_tr * weights).groupby(\"year_season\").sum(dim=\"time\")\n",
    "\n",
    "# Get the average for the entire region (weight by gridcell size) ----\n",
    "\n",
    "# Get the sum of the relative areas for cells with temp data\n",
    "da_ones = da_tr.isel(time=0) / da_tr.isel(time=0)\n",
    "glob_w = da_ones * np.cos(np.deg2rad(da_trs.lat))\n",
    "glob_ws = glob_w.sum()\n",
    "\n",
    "# Then weight and divide by total weighting sum\n",
    "weights = np.cos(np.deg2rad(da_trs.lat))\n",
    "weights.name = \"weights\"\n",
    "da_trsw = da_trs.weighted(weights) # Get weighted values\n",
    "da_trsm = da_trsw.sum(('lat', 'lon')) / glob_ws.values # Get the average over lat and lon"
   ]
  },
  {
   "cell_type": "code",
   "execution_count": 10,
   "metadata": {},
   "outputs": [],
   "source": [
    "# Convert to pandas df\n",
    "\n",
    "# First get the year-season coordinate and convert to a pandas MultiIndex\n",
    "ys = da_trsm['year_season'].to_pandas()\n",
    "index = pd.MultiIndex.from_tuples(ys)\n",
    "# Second convert arraydata and MultiIndex to dataframe (the latter maybe unnecessary)\n",
    "df1 = da_trsm.to_dataframe(name='tmp')\n",
    "df2 = index.to_frame()\n",
    "# Third concat the dfs and add the index\n",
    "ts = pd.concat([df1, df2], axis=1)\n",
    "ts = ts.set_index(index)\n",
    "ts.columns = ['tmp', 'year', 'season']\n",
    "\n",
    "# Add to the yearly dataframe\n",
    "tm = da_trym.to_dataframe(name='tmp_year')\n",
    "\n",
    "for s in ['DJF', 'MAM', 'JJA', 'SON']:\n",
    "    name = 'tmp_' + s\n",
    "    data = ts.loc[ts['season']==s, 'tmp']\n",
    "    data = data.reset_index(level=1, drop=True)\n",
    "    tm[name] = data\n",
    "\n",
    "file_out = 'tmp_yearly_means_' + str(limS) + str(limN) + 'N.csv'\n",
    "tm.to_csv('../data/piao_2008/' + file_out)\n"
   ]
  }
 ],
 "metadata": {
  "interpreter": {
   "hash": "91f1bba8519ed6923ef60977c5cf07f967a73d7b4253536b2b2cbd4772524678"
  },
  "kernelspec": {
   "display_name": "Python 3.9.12 ('recovery')",
   "language": "python",
   "name": "python3"
  },
  "language_info": {
   "codemirror_mode": {
    "name": "ipython",
    "version": 3
   },
   "file_extension": ".py",
   "mimetype": "text/x-python",
   "name": "python",
   "nbconvert_exporter": "python",
   "pygments_lexer": "ipython3",
   "version": "3.9.12"
  },
  "orig_nbformat": 4,
  "vscode": {
   "interpreter": {
    "hash": "91f1bba8519ed6923ef60977c5cf07f967a73d7b4253536b2b2cbd4772524678"
   }
  }
 },
 "nbformat": 4,
 "nbformat_minor": 2
}
