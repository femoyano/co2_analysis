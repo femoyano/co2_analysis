{
 "cells": [
  {
   "cell_type": "markdown",
   "metadata": {},
   "source": [
    "## Recreating Analysis of Piao Nature 2008"
   ]
  },
  {
   "cell_type": "markdown",
   "metadata": {},
   "source": [
    "### Step 2: CO2 data preprocessing\n",
    "\n",
    "Note: Piao 2008 used flask data. There is no information about the frequency (daily vs monthly)\n",
    "\n",
    "1. Create daily dataset by aggregating event data and adding to daily file\n",
    "2. Create monthly data by aggregating the daily file and adding to monthly"
   ]
  },
  {
   "cell_type": "code",
   "execution_count": 8,
   "metadata": {},
   "outputs": [],
   "source": [
    "# Required modules\n",
    "from ccgcrv import ccg_dates\n",
    "import pandas as pd\n",
    "from copy import copy, deepcopy"
   ]
  },
  {
   "cell_type": "code",
   "execution_count": 9,
   "metadata": {},
   "outputs": [],
   "source": [
    "# Read in the data\n",
    "co2_f = pd.read_csv('../data/piao_2008/piao2008_co2_flask.csv')"
   ]
  },
  {
   "cell_type": "code",
   "execution_count": 10,
   "metadata": {},
   "outputs": [],
   "source": [
    "# One station has two names: SSL and SCH. Set all to SSL (newer name)\n",
    "co2_f.loc[co2_f['station'] == 'SCH', 'station'] = 'SSL'"
   ]
  },
  {
   "cell_type": "code",
   "execution_count": 11,
   "metadata": {},
   "outputs": [],
   "source": [
    "# Separate monthly from event data\n",
    "co2_fm = co2_f.loc[co2_f['freq'] == 'monthly', :]\n",
    "co2_fe = co2_f.loc[co2_f['freq'] == 'event', :]"
   ]
  },
  {
   "cell_type": "code",
   "execution_count": 12,
   "metadata": {},
   "outputs": [],
   "source": [
    "# Get daily averages from event data and remove the averaged hour column\n",
    "co2_fd = co2_fe.groupby(['station','year','month','day'], as_index=False).mean() \n",
    "co2_fd.drop(['hour'], axis=1, inplace=True)"
   ]
  },
  {
   "cell_type": "code",
   "execution_count": 13,
   "metadata": {},
   "outputs": [],
   "source": [
    "# Get monthly averages from daily data and remove unnecessary columns\n",
    "co2_fm2 = co2_fd.groupby(['station','year','month'], as_index=False).mean()\n",
    "co2_fm2.drop(['day', 'stdev'], axis=1, inplace=True)"
   ]
  },
  {
   "cell_type": "markdown",
   "metadata": {},
   "source": [
    "**Merge and select data**\n",
    "\n",
    "The calculated averages have many outliers, so monthly values as downloaded are used when available.  "
   ]
  },
  {
   "cell_type": "code",
   "execution_count": 14,
   "metadata": {},
   "outputs": [],
   "source": [
    "# Merge monthly dataframes\n",
    "co2_fm1 = deepcopy(co2_fm)\n",
    "co2_fm1['key'] = co2_fm1['station'] + co2_fm1['year'].astype(str) + co2_fm1['month'].astype(str)\n",
    "co2_fm2['key'] = co2_fm2['station'] + co2_fm2['year'].astype(str) + co2_fm2['month'].astype(str)\n",
    "co2_fm = co2_fm1.join(co2_fm2.set_index('key'), on='key', how='outer', lsuffix='_orig', rsuffix='_calc')\n",
    "co2_fm.reset_index(inplace=True)"
   ]
  },
  {
   "cell_type": "code",
   "execution_count": 15,
   "metadata": {},
   "outputs": [],
   "source": [
    "# Cleanup\n",
    "del co2_fm2"
   ]
  },
  {
   "cell_type": "code",
   "execution_count": 16,
   "metadata": {},
   "outputs": [],
   "source": [
    "# Restructure and select the data\n",
    "\n",
    "co2_fm['station'] = co2_fm['station_orig']\n",
    "co2_fm['year'] = co2_fm['year_orig']\n",
    "co2_fm['month'] = co2_fm['month_orig']\n",
    "co2_fm['co2'] = co2_fm['co2_orig']\n",
    "\n",
    "is_na = co2_fm['station_orig'].isna()\n",
    "co2_fm.loc[is_na, 'station'] = co2_fm['station_calc'].loc[is_na]\n",
    "is_na = co2_fm['year_orig'].isna()\n",
    "co2_fm.loc[is_na, 'year'] = co2_fm['year_calc'].loc[is_na]\n",
    "is_na = co2_fm['month_orig'].isna()\n",
    "co2_fm.loc[is_na, 'month'] = co2_fm['month_calc'].loc[is_na]\n",
    "is_na = co2_fm['co2_orig'].isna()\n",
    "co2_fm.loc[is_na, 'co2'] = co2_fm['co2_calc'].loc[is_na]\n",
    "del is_na\n",
    "\n",
    "co2_fm.drop(['station_orig', 'station_calc', 'year_orig', 'year_calc', 'month_orig', 'month_calc', 'key'], axis=1, inplace=True)"
   ]
  },
  {
   "cell_type": "code",
   "execution_count": 17,
   "metadata": {},
   "outputs": [],
   "source": [
    "# Calculate the decimal year\n",
    "from ccgcrv import ccg_dates\n",
    "co2_fm['dec_year'] = co2_fm.apply(lambda row: ccg_dates.decimalDate(int(row['year']),\n",
    "        int(row['month']), 15), axis=1)"
   ]
  },
  {
   "cell_type": "code",
   "execution_count": 18,
   "metadata": {},
   "outputs": [],
   "source": [
    "# Write out results\n",
    "co2_fm.to_csv('../data/piao_2008/co2_fm.csv')"
   ]
  },
  {
   "cell_type": "markdown",
   "metadata": {},
   "source": [
    "**Select stations for analysis**\n",
    "\n",
    "Information about each station is in the file data/co2_station_summary.csv\n",
    "\n",
    "Steps:\n",
    "- Add dates to station description file\n",
    "- Read file\n",
    "- Create new dataframe with selection according to dates"
   ]
  },
  {
   "cell_type": "code",
   "execution_count": 19,
   "metadata": {},
   "outputs": [],
   "source": [
    "# Read in station summary\n",
    "stations = pd.read_csv('../data/co2_station_summary.csv')\n",
    "# Select stations used by piao2008\n",
    "piao_stations = stations.loc[stations['piao_2008']==True,:]\n",
    "# Select data for the selected stations\n",
    "is_sel = co2_fm['station'].isin(piao_stations['name'])\n",
    "piao_co2_fm = co2_fm.loc[is_sel, :] # at the moment they are all piao stations\n",
    "del is_sel\n",
    "\n",
    "piao_stations.to_csv('../data/piao_2008/piao_stations.csv')\n",
    "piao_co2_fm.to_csv('../data/piao_2008/piao_co2_fm.csv')"
   ]
  }
 ],
 "metadata": {
  "interpreter": {
   "hash": "91f1bba8519ed6923ef60977c5cf07f967a73d7b4253536b2b2cbd4772524678"
  },
  "kernelspec": {
   "display_name": "Python 3 (ipykernel)",
   "language": "python",
   "name": "python3"
  },
  "language_info": {
   "codemirror_mode": {
    "name": "ipython",
    "version": 3
   },
   "file_extension": ".py",
   "mimetype": "text/x-python",
   "name": "python",
   "nbconvert_exporter": "python",
   "pygments_lexer": "ipython3",
   "version": "3.9.12"
  }
 },
 "nbformat": 4,
 "nbformat_minor": 4
}
