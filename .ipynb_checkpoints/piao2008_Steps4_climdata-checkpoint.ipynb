{
 "cells": [
  {
   "cell_type": "markdown",
   "metadata": {},
   "source": [
    "### Step 4: temperature averages for the northern latitudes\n",
    "\n",
    "- Read in temperature data. File: /Users/moyanofe/BigData/GeoSpatial/Climate/CRU-TS_4.05_1901-2020/cru_ts4.05.1901.2020.tmn.dat.nc\n",
    "- Calculate averages for:\n",
    "    - above 30ºN and above 50ºN\n",
    "    - yearly and seasonally\n",
    "\n",
    "Note: check for useful code in trend calculations scripts"
   ]
  },
  {
   "cell_type": "code",
   "execution_count": 1,
   "metadata": {},
   "outputs": [],
   "source": [
    "import numpy as np\n",
    "import pandas as pd\n",
    "import xarray as xr\n",
    "import glob\n",
    "import os\n",
    "import rioxarray"
   ]
  },
  {
   "cell_type": "code",
   "execution_count": 4,
   "metadata": {},
   "outputs": [],
   "source": [
    "file = '/Users/moyanofe/BigData/GeoSpatial/Climate/CRU-TS_4.05_1901-2020/cru_ts4.05.1901.2020.tmp.dat.nc'\n",
    "cru = xr.open_dataset(file)\n",
    "t_da = cru['tmp']"
   ]
  },
  {
   "cell_type": "code",
   "execution_count": 5,
   "metadata": {},
   "outputs": [],
   "source": [
    "# The yearly average\n",
    "t_da_ym = t_da.groupby('time.year').mean()"
   ]
  },
  {
   "cell_type": "code",
   "execution_count": null,
   "metadata": {},
   "outputs": [],
   "source": [
    "# Get seasonal averages\n",
    "# See: https://docs.xarray.dev/en/stable/examples/monthly-means.html\n",
    "\n",
    "year_np = t_da['time.year'].to_pandas()\n",
    "season_np = t_da['time.season'].to_pandas()\n",
    "year_season_idx = pd.MultiIndex.from_arrays([year_np, season_np])\n",
    "t_da.coords['year_season'] = ('time', year_season_idx)"
   ]
  },
  {
   "cell_type": "code",
   "execution_count": null,
   "metadata": {},
   "outputs": [],
   "source": [
    "# To be precise, need to weight by the actual month lengths:\n",
    "month_length = t_da.time.dt.days_in_month\n",
    "\n",
    "# Calculate the weights by grouping by 'time.season'.\n",
    "weights = (\n",
    "    month_length.groupby(\"time.season\") / month_length.groupby(\"time.season\").sum()\n",
    ")\n",
    "\n",
    "# Test that the sum of the weights for each season is 1.0\n",
    "np.testing.assert_allclose(weights.groupby(\"time.season\").sum().values, np.ones(4))\n",
    "\n",
    "# Calculate the weighted average\n",
    "ds_weighted = (ds * weights).groupby(\"time.season\").sum(dim=\"time\")"
   ]
  }
 ],
 "metadata": {
  "kernelspec": {
   "display_name": "Python 3 (ipykernel)",
   "language": "python",
   "name": "python3"
  },
  "language_info": {
   "codemirror_mode": {
    "name": "ipython",
    "version": 3
   },
   "file_extension": ".py",
   "mimetype": "text/x-python",
   "name": "python",
   "nbconvert_exporter": "python",
   "pygments_lexer": "ipython3",
   "version": "3.9.12"
  },
  "vscode": {
   "interpreter": {
    "hash": "91f1bba8519ed6923ef60977c5cf07f967a73d7b4253536b2b2cbd4772524678"
   }
  }
 },
 "nbformat": 4,
 "nbformat_minor": 4
}
