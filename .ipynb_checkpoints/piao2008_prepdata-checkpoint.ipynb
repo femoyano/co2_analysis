{
 "cells": [
  {
   "cell_type": "markdown",
   "metadata": {},
   "source": [
    "## Recreating Analysis of Piao Nature 2008"
   ]
  },
  {
   "cell_type": "code",
   "execution_count": 58,
   "metadata": {},
   "outputs": [],
   "source": [
    "from ccgcrv import ccg_filter\n",
    "from ccgcrv import ccg_dates\n",
    "from matplotlib import pyplot as plt\n",
    "import pandas as pd\n",
    "import numpy as np\n",
    "from copy import copy, deepcopy"
   ]
  },
  {
   "cell_type": "markdown",
   "metadata": {},
   "source": [
    "### Step 1: data retrieval\n",
    "\n",
    "CO2 data from the stations used in Piao (and others) was retrieved from 2 sources: NOAA-ESRL and ICOS. Selection of Piao stations copied to: /Users/moyanofe/Work/Augsburg/Research/CO2/data/piao_2008\n",
    "\n",
    "Data with Piao stations was then merged into 3 files:\n",
    "- piao2008_co2_flask_event.csv\n",
    "- piao2008_co2_flask_monthly.csv\n",
    "- piao2008_co2_insitu_daily.csv\n",
    "- piao2008_co2_insitu_hourly.csv\n",
    "- piao2008_co2_insitu_monthly.csv"
   ]
  },
  {
   "cell_type": "markdown",
   "metadata": {},
   "source": [
    "### Step 2: co2 data preprocessing\n",
    "\n",
    "Note: Piao 2008 used flask data. There is no information about the frequency (daily vs monthly)\n",
    "\n",
    "1. Create daily dataset by aggregating event data and adding to daily file\n",
    "2. Create monthly data by aggregating the daily file and adding to monthly"
   ]
  },
  {
   "cell_type": "code",
   "execution_count": 59,
   "metadata": {},
   "outputs": [],
   "source": [
    "# Read in the data\n",
    "co2_fm = pd.read_csv('../data/piao_2008/piao2008_co2_flask_monthly.csv')\n",
    "co2_fe = pd.read_csv('../data/piao_2008/piao2008_co2_flask_event.csv')"
   ]
  },
  {
   "cell_type": "code",
   "execution_count": 60,
   "metadata": {},
   "outputs": [],
   "source": [
    "# Get daily averages from event data and remove the averaged hour column\n",
    "co2_fd = co2_fe.groupby(['station','year','month','day'], as_index=False).mean() \n",
    "co2_fd.drop(['hour'], axis=1, inplace=True)"
   ]
  },
  {
   "cell_type": "code",
   "execution_count": 61,
   "metadata": {},
   "outputs": [],
   "source": [
    "# Get monthly averages from daily data and remove the averaged day column\n",
    "co2_fm2 = co2_fd.groupby(['station','year','month'], as_index=False).mean()\n",
    "co2_fm3 = co2_fd.groupby(['station','year','month'], as_index=False).std()\n",
    "co2_fm2.drop(['day', 'stdev'], axis=1, inplace=True)"
   ]
  },
  {
   "cell_type": "markdown",
   "metadata": {},
   "source": [
    "**Merge and select data**\n",
    "\n",
    "Merge and use the original monthly values when available. This avoids many outliers that appear in the calculated averages."
   ]
  },
  {
   "cell_type": "code",
   "execution_count": 62,
   "metadata": {},
   "outputs": [],
   "source": [
    "# Merge monthly dataframes\n",
    "co2_fm1 = deepcopy(co2_fm)\n",
    "co2_fm1['key'] = co2_fm1['station'] + co2_fm1['year'].astype(str) + co2_fm1['month'].astype(str)\n",
    "co2_fm2['key'] = co2_fm2['station'] + co2_fm2['year'].astype(str) + co2_fm2['month'].astype(str)\n",
    "co2_fm = co2_fm1.join(co2_fm2.set_index('key'), on='key', how='outer', lsuffix='_orig', rsuffix='_calc')\n",
    "co2_fm.reset_index(inplace=True)"
   ]
  },
  {
   "cell_type": "code",
   "execution_count": 63,
   "metadata": {},
   "outputs": [],
   "source": [
    "# Restructure and select the data\n",
    "\n",
    "co2_fm['station'] = co2_fm['station_orig']\n",
    "co2_fm['year'] = co2_fm['year_orig']\n",
    "co2_fm['month'] = co2_fm['month_orig']\n",
    "co2_fm['co2'] = co2_fm['co2_orig']\n",
    "\n",
    "is_na = co2_fm['station_orig'].isna()\n",
    "co2_fm.loc[is_na, 'station'] = co2_fm['station_calc'].loc[is_na]\n",
    "is_na = co2_fm['year_orig'].isna()\n",
    "co2_fm.loc[is_na, 'year'] = co2_fm['year_calc'].loc[is_na]\n",
    "is_na = co2_fm['month_orig'].isna()\n",
    "co2_fm.loc[is_na, 'month'] = co2_fm['month_calc'].loc[is_na]\n",
    "is_na = co2_fm['co2_orig'].isna()\n",
    "co2_fm.loc[is_na, 'co2'] = co2_fm['co2_calc'].loc[is_na]\n",
    "\n",
    "co2_fm.drop(['station_orig', 'station_calc', 'year_orig', 'year_calc', 'month_orig', 'month_calc', 'key'], axis=1, inplace=True)"
   ]
  }
 ],
 "metadata": {
  "interpreter": {
   "hash": "91f1bba8519ed6923ef60977c5cf07f967a73d7b4253536b2b2cbd4772524678"
  },
  "kernelspec": {
   "display_name": "Python 3.9.12 ('recovery')",
   "language": "python",
   "name": "python3"
  },
  "language_info": {
   "codemirror_mode": {
    "name": "ipython",
    "version": 3
   },
   "file_extension": ".py",
   "mimetype": "text/x-python",
   "name": "python",
   "nbconvert_exporter": "python",
   "pygments_lexer": "ipython3",
   "version": "3.9.12"
  },
  "orig_nbformat": 4
 },
 "nbformat": 4,
 "nbformat_minor": 2
}
