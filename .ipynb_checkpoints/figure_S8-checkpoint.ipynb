{
 "cells": [
  {
   "cell_type": "markdown",
   "metadata": {},
   "source": [
    "## Recreating figure S8 in Joyce et al. 2021 GRL\n",
    "\n",
    "To Do\n",
    "- Analyise for both constant and dynamic atmospheric transport (see file names)\n",
    "- Aggregate data in yearly files into a pandas dataframe\n",
    "- Apply ccgcrv to observed and simulations to get a fit to seasonal CO2\n",
    "- Plot observed"
   ]
  },
  {
   "cell_type": "code",
   "execution_count": 17,
   "metadata": {},
   "outputs": [],
   "source": [
    "%reset -f "
   ]
  },
  {
   "cell_type": "code",
   "execution_count": 18,
   "metadata": {},
   "outputs": [],
   "source": [
    "# Using conda enviroment: base \n",
    "import pandas as pd\n",
    "import os\n",
    "import glob"
   ]
  },
  {
   "cell_type": "code",
   "execution_count": 19,
   "metadata": {},
   "outputs": [],
   "source": [
    "# Files with output for constant atmopsheric transport\n",
    "files = sorted(glob.glob(os.path.realpath(\"../../../Data/Joyce_et_al_2021_GRL/BRW_station_co2_atmos_const*\")))\n",
    "\n",
    "# # Files with output for dynamic atmopsheric transport\n",
    "# files = glob.glob(os.path.realpath(\"../../../Data/Joyce_et_al_2021_GRL/BRW_station_co2_atmos_vary*\"))\n",
    "\n",
    "# print(files)"
   ]
  },
  {
   "cell_type": "code",
   "execution_count": 20,
   "metadata": {},
   "outputs": [],
   "source": [
    "for i in range(0, len(files)):\n",
    "    f = files[i]\n",
    "    # print(f)\n",
    "    data_in = pd.read_csv(f, delim_whitespace=True, header=None, skiprows=3)\n",
    "    if i == 0:\n",
    "        colnames = pd.read_csv(f, sep=',', skiprows=2, nrows=0, skipinitialspace=True).columns.tolist()\n",
    "        data_in.columns = colnames\n",
    "        data = data_in  \n",
    "    else:\n",
    "        data_in.columns = colnames\n",
    "        data = pd.concat([data, data_in])\n"
   ]
  },
  {
   "cell_type": "markdown",
   "metadata": {},
   "source": [
    "### Fitting the ccgcrv function to the CO2 time series\n"
   ]
  },
  {
   "cell_type": "code",
   "execution_count": 21,
   "metadata": {},
   "outputs": [],
   "source": [
    "co2 = data[\"Background\"] + data[\"FF\"]\n",
    "\n",
    "# co2 = data[[\"Dec_year\", \"]] "
   ]
  }
 ],
 "metadata": {
  "interpreter": {
   "hash": "c831a52e7e7f5401a20f8e093da70c7f2766743da1ed92412792c896a16f8b19"
  },
  "kernelspec": {
   "display_name": "Python 3 (ipykernel)",
   "language": "python",
   "name": "python3"
  },
  "language_info": {
   "codemirror_mode": {
    "name": "ipython",
    "version": 3
   },
   "file_extension": ".py",
   "mimetype": "text/x-python",
   "name": "python",
   "nbconvert_exporter": "python",
   "pygments_lexer": "ipython3",
   "version": "3.8.13"
  }
 },
 "nbformat": 4,
 "nbformat_minor": 2
}
