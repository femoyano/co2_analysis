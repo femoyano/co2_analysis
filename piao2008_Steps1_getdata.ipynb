{
 "cells": [
  {
   "cell_type": "markdown",
   "metadata": {},
   "source": [
    "## Recreating Analysis of Piao Nature 2008"
   ]
  },
  {
   "cell_type": "markdown",
   "metadata": {},
   "source": [
    "### Step 1: data retrieval\n",
    "\n",
    "CO2 data from the stations used in Piao (and others) was retrieved from 2 sources: NOAA-ESRL and ICOS. Selection of Piao stations copied to: /Users/moyanofe/Work/Augsburg/Research/CO2/data/piao_2008\n",
    "\n",
    "Data with Piao stations was then merged into 3 files:\n",
    "- piao2008_co2_flask_event.csv\n",
    "- piao2008_co2_flask_monthly.csv\n",
    "- piao2008_co2_insitu_daily.csv\n",
    "- piao2008_co2_insitu_hourly.csv\n",
    "- piao2008_co2_insitu_monthly.csv\n",
    "\n",
    "Analyses to carry out:\n",
    "- First analysis: select stations and periods as in Piao 2008\n",
    "- Second analysis: select stations as in Piao 2008 and entire available periods \n",
    "- Third analysis: use stations selected in Forkel 2016 with full time series\n"
   ]
  }
 ],
 "metadata": {
  "language_info": {
   "name": "python"
  },
  "orig_nbformat": 4
 },
 "nbformat": 4,
 "nbformat_minor": 2
}
