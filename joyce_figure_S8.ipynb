{
 "cells": [
  {
   "cell_type": "markdown",
   "metadata": {},
   "source": [
    "## Recreating figure S8 in Joyce et al. 2021 GRL\n",
    "\n",
    "### Procedure\n",
    "- Use the dynamic atmospheric transport control data for Point Barrow (where eveything is variable). File names indicate which.\n",
    "- Aggregate data in yearly files into a pandas dataframe\n",
    "- Calculate monthly means\n",
    "- Read in Point Barrow observations data\n",
    "- Plot simulated vs observed CO2\n",
    "- Apply ccgcrv to observed and simulations to get a fit to seasonal CO2\n",
    "- Calculate CO2 seasonal amplitude changes and plot"
   ]
  },
  {
   "cell_type": "code",
   "execution_count": 1,
   "metadata": {},
   "outputs": [],
   "source": [
    "%reset -f "
   ]
  },
  {
   "cell_type": "code",
   "execution_count": 2,
   "metadata": {},
   "outputs": [],
   "source": [
    "# Using conda enviroment: base \n",
    "import pandas as pd\n",
    "import os\n",
    "import glob\n",
    "import sys"
   ]
  },
  {
   "cell_type": "code",
   "execution_count": 3,
   "metadata": {},
   "outputs": [],
   "source": [
    "# Files with output for constant atmopsheric transport\n",
    "files = sorted(glob.glob(os.path.realpath(\"../../../Data/Joyce_et_al_2021_GRL/BRW_station_co2_atmos_const*\")))\n",
    "\n",
    "# # Files with output for dynamic atmopsheric transport\n",
    "# files = glob.glob(os.path.realpath(\"../../../Data/Joyce_et_al_2021_GRL/BRW_station_co2_atmos_vary*\"))\n",
    "\n",
    "# print(files)"
   ]
  },
  {
   "cell_type": "code",
   "execution_count": 4,
   "metadata": {},
   "outputs": [],
   "source": [
    "for i in range(0, len(files)):\n",
    "    f = files[i]\n",
    "    # print(f)\n",
    "    data_in = pd.read_csv(f, delim_whitespace=True, header=None, skiprows=3)\n",
    "    if i == 0:\n",
    "        colnames = pd.read_csv(f, sep=',', skiprows=2, nrows=0, skipinitialspace=True).columns.tolist()\n",
    "        data_in.columns = colnames\n",
    "        data = data_in  \n",
    "    else:\n",
    "        data_in.columns = colnames\n",
    "        data = pd.concat([data, data_in])\n"
   ]
  },
  {
   "cell_type": "markdown",
   "metadata": {},
   "source": [
    "### Fitting the ccgcrv function to the CO2 time series\n"
   ]
  },
  {
   "cell_type": "code",
   "execution_count": 5,
   "metadata": {},
   "outputs": [],
   "source": [
    "import numpy as np\n",
    "import matplotlib.pyplot as plt\n",
    "from ccgcrv_python import ccg_filter"
   ]
  },
  {
   "cell_type": "code",
   "execution_count": 6,
   "metadata": {},
   "outputs": [],
   "source": [
    "pre_co2 = data[\"Background\"] + data[\"FF\"] + data[\"Ocean\"]\n",
    "co2 = pre_co2 + data[\"NEE_ctrl\"] + data[\"FIRE_ctrl\"]\n",
    "co2_df = pd.concat([data[\"Dec_year\"], co2], axis=1).reset_index(drop=True)\n",
    "co2_df.columns = [\"decimal_year\", \"co2_ppm\"]\n",
    "\n",
    "# co2 = data[[\"Dec_year\", \"]] "
   ]
  },
  {
   "cell_type": "code",
   "execution_count": 9,
   "metadata": {},
   "outputs": [
    {
     "data": {
      "text/plain": [
       "' \\n# Seasonal Cycle\\n# x and y are original data points\\ntrend = filt.getTrendValue(x)\\ndetrend = y - trend\\nharmonics = filt.getHarmonicValue(x0)\\nsmooth_cycle = harmonics + filt.smooth - filt.trend\\n# residuals from the function\\nresid_from_func = filt.resid\\n# smoothed residuals\\nresid_smooth = filt.smooth\\n# trend of residuals\\nresid_trend = filt.trend\\n# residuals about the smoothed line\\nresid_from_smooth = filt.yp - filt.getSmoothValue(x)\\n# equally spaced interpolated data with function removed\\nx1 = filt.xinterp\\ny9 = filt.yinterp\\n '"
      ]
     },
     "execution_count": 9,
     "metadata": {},
     "output_type": "execute_result"
    },
    {
     "data": {
      "image/png": "[encoded data removed]",
      "text/plain": [
       "<Figure size 432x288 with 1 Axes>"
      ]
     },
     "metadata": {
      "needs_background": "light"
     },
     "output_type": "display_data"
    }
   ],
   "source": [
    "xp = co2_df[\"decimal_year\"].to_numpy()\n",
    "yp = co2_df[\"co2_ppm\"].to_numpy()\n",
    "\n",
    "shortterm = 80\n",
    "longterm = 667\n",
    "sampleinterval = 30\n",
    "numpolyterms=3\n",
    "numharmonics=4\n",
    "timezero=-1\n",
    "gap=0\n",
    "use_gain_factor=False,\n",
    "use_gain_factor=False,\n",
    "debug=False\n",
    "\n",
    "# create the ccgfilt object\n",
    "filt = ccg_filter.ccgFilter(xp=xp, yp=yp, shortterm=shortterm, longterm=longterm,\n",
    "    sampleinterval=sampleinterval, numpolyterms=numpolyterms,\n",
    "    numharmonics=numharmonics, timezero=timezero, gap=gap, debug=debug)\n",
    "#\n",
    "mm = filt.getMonthlyMeans()\n",
    "amps = filt.getAmplitudes()\n",
    "tcup, tcdown = filt.getTrendCrossingDates()\n",
    "\n",
    "# get x,y data for plotting\n",
    "x0 = filt.xinterp\n",
    "y1 = filt.getFunctionValue(x0)\n",
    "y2 = filt.getPolyValue(x0)\n",
    "y3 = filt.getSmoothValue(x0)\n",
    "y4 = filt.getTrendValue(x0)\n",
    "\n",
    "# plt.plot(x0, y1)\n",
    "plt.plot(xp, yp)\n",
    "\n",
    "\n",
    "\"\"\" \n",
    "# Seasonal Cycle\n",
    "# x and y are original data points\n",
    "trend = filt.getTrendValue(x)\n",
    "detrend = y - trend\n",
    "harmonics = filt.getHarmonicValue(x0)\n",
    "smooth_cycle = harmonics + filt.smooth - filt.trend\n",
    "# residuals from the function\n",
    "resid_from_func = filt.resid\n",
    "# smoothed residuals\n",
    "resid_smooth = filt.smooth\n",
    "# trend of residuals\n",
    "resid_trend = filt.trend\n",
    "# residuals about the smoothed line\n",
    "resid_from_smooth = filt.yp - filt.getSmoothValue(x)\n",
    "# equally spaced interpolated data with function removed\n",
    "x1 = filt.xinterp\n",
    "y9 = filt.yinterp\n",
    " \"\"\"\n"
   ]
  }
 ],
 "metadata": {
  "interpreter": {
   "hash": "c831a52e7e7f5401a20f8e093da70c7f2766743da1ed92412792c896a16f8b19"
  },
  "kernelspec": {
   "display_name": "Python 3 (ipykernel)",
   "language": "python",
   "name": "python3"
  },
  "language_info": {
   "codemirror_mode": {
    "name": "ipython",
    "version": 3
   },
   "file_extension": ".py",
   "mimetype": "text/x-python",
   "name": "python",
   "nbconvert_exporter": "python",
   "pygments_lexer": "ipython3",
   "version": "3.8.13"
  }
 },
 "nbformat": 4,
 "nbformat_minor": 4
}
