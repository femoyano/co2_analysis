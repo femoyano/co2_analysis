{
 "cells": [
  {
   "cell_type": "markdown",
   "metadata": {},
   "source": [
    "## Recreating Analysis of Piao Nature 2008"
   ]
  },
  {
   "cell_type": "markdown",
   "metadata": {},
   "source": [
    "### Step 3: Analyze time series of all stations\n",
    "\n",
    "Substeps\n",
    "\n",
    "- Create a function that takes a stations co2 time series and outputs the data (actually, just use the function I already have.)\n",
    "\n",
    "- Call the above function and save results in a dictionary, with keys being station names\n"
   ]
  },
  {
   "cell_type": "code",
   "execution_count": 16,
   "metadata": {},
   "outputs": [],
   "source": [
    "from fun_ccg_fits import ccg_fits\n",
    "from matplotlib import pyplot as plt\n",
    "import pandas as pd\n",
    "from copy import copy, deepcopy\n",
    "import numpy as np\n"
   ]
  },
  {
   "cell_type": "code",
   "execution_count": 2,
   "metadata": {},
   "outputs": [],
   "source": [
    "# Read in data\n",
    "piao_co2_fm = pd.read_csv('../data/piao_2008/piao_co2_fm.csv')\n",
    "piao_stations = pd.read_csv('../data/piao_2008/piao_stations.csv')"
   ]
  },
  {
   "cell_type": "code",
   "execution_count": 5,
   "metadata": {},
   "outputs": [],
   "source": [
    "\n",
    "# Default parameter values as used in the ccgcrv code.\n",
    "ccg_pars_def = {\n",
    "    'shortterm': 80,\n",
    "    'longterm': 667,\n",
    "    'sampleinterval': 0,\n",
    "    'numpolyterms': 3,\n",
    "    'numharmonics': 4,\n",
    "    'timezero': -1,\n",
    "    'gap': 0,\n",
    "    'use_gain_factor': False,\n",
    "    'debug': False\n",
    "}\n",
    "\n",
    "# Set sampleinterval to 1\n",
    "ccg_pars1 = deepcopy(ccg_pars_def)\n",
    "ccg_pars1['sampleinterval'] = 1\n",
    "\n",
    "ccg_output = dict()\n",
    "\n",
    "for s in piao_stations['name'].unique():\n",
    "    ystart = int(piao_stations.loc[piao_stations['name'] == s,'start_piao2008'])\n",
    "    yend = int(piao_stations.loc[piao_stations['name'] == s,'end_piao2008'])\n",
    "    sel = (piao_co2_fm['station'] == s) & (piao_co2_fm['year'].between(ystart, yend, inclusive='both'))\n",
    "    input = piao_co2_fm.loc[sel, ['co2', 'dec_year']]\n",
    "    out = ccg_fits(data=input, pars=ccg_pars1)\n",
    "    ccg_output[s] = out\n"
   ]
  },
  {
   "cell_type": "code",
   "execution_count": 25,
   "metadata": {},
   "outputs": [],
   "source": [
    "# Create dataframe with stations and results\n",
    "\n",
    "# Here could remove bad years e.g. by using the Gini coefficient as in Forkel 2016\n",
    "\n",
    "piao_ccgmeans = deepcopy(pd.DataFrame(piao_stations['name']))\n",
    "piao_ccgmeans['amp_mean'] = np.nan\n",
    "piao_ccgmeans['min_mean'] = np.nan\n",
    "piao_ccgmeans['max_mean'] = np.nan\n",
    "piao_ccgmeans['szc_mean'] = np.nan\n",
    "piao_ccgmeans['azc_mean'] = np.nan\n",
    "\n",
    "for s in piao_stations['name'].unique():\n",
    "    res = ccg_output[s]\n",
    "    amp_mean = res['yearly']['amp'].mean()\n",
    "    min_mean = res['yearly']['min_value'].mean()\n",
    "    max_mean = res['yearly']['max_value'].mean()\n",
    "    szc_mean = res['yearly']['tcd_doy'].mean()\n",
    "    azc_mean = res['yearly']['tcu_doy'].mean()\n",
    "    piao_ccgmeans.loc[piao_ccgmeans['name']==s, 'amp_mean'] = np.round(amp_mean, 2)\n",
    "    piao_ccgmeans.loc[piao_ccgmeans['name']==s, 'min_mean'] = np.round(min_mean, 2)\n",
    "    piao_ccgmeans.loc[piao_ccgmeans['name']==s, 'max_mean'] = np.round(max_mean, 2)\n",
    "    piao_ccgmeans.loc[piao_ccgmeans['name']==s, 'szc_mean'] = int(szc_mean)\n",
    "    piao_ccgmeans.loc[piao_ccgmeans['name']==s, 'azc_mean'] = int(azc_mean)\n"
   ]
  }
 ],
 "metadata": {
  "interpreter": {
   "hash": "91f1bba8519ed6923ef60977c5cf07f967a73d7b4253536b2b2cbd4772524678"
  },
  "kernelspec": {
   "display_name": "Python 3.9.12 ('recovery')",
   "language": "python",
   "name": "python3"
  },
  "language_info": {
   "codemirror_mode": {
    "name": "ipython",
    "version": 3
   },
   "file_extension": ".py",
   "mimetype": "text/x-python",
   "name": "python",
   "nbconvert_exporter": "python",
   "pygments_lexer": "ipython3",
   "version": "3.9.12"
  },
  "orig_nbformat": 4,
  "vscode": {
   "interpreter": {
    "hash": "91f1bba8519ed6923ef60977c5cf07f967a73d7b4253536b2b2cbd4772524678"
   }
  }
 },
 "nbformat": 4,
 "nbformat_minor": 2
}
